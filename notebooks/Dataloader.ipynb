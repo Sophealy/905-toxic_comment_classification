{
 "cells": [
  {
   "cell_type": "code",
   "execution_count": null,
   "metadata": {},
   "outputs": [],
   "source": [
    "class ToxicDataset(Dataset):\n",
    "\n",
    "    def __init__(self,csv_path):\n",
    "        self.to_tensor = transforms.ToTensor()\n",
    "        self.data = pd.read_csv(csv_path, header=True)\n",
    "        self.id_arr = np.asarray(self.data.iloc[:,1])\n",
    "        self.comment_arr = np.asarray(self.data.iloc[:,2])\n",
    "        self.toxic_arr = np.asarray(self.data.iloc[:3])\n",
    "        self.severe_arr = np.asarray(self.data.iloc[:4])\n",
    "        self.obscene_arr = np.asarray(self.data.iloc[:5])\n",
    "        self.threat_arr = np.asarray(self.data.iloc[:6])\n",
    "        self.insult_arr = np.asarray(self.data.iloc[:7])\n",
    "        self.id_hate_arr = np.asarray(self.data.iloc[:8])\n",
    "        self.data_len = len(self.data.index)\n",
    "        \n",
    "    def __getitem__(self,index):\n",
    "        return[self.id_arr[index],self.comment_arr[index],\n",
    "               self.toxic_arr[index],self.severe_arr[index],\n",
    "               self.obscene_arr[index],self.threat_arr[index],\n",
    "               self.insult_arr[index],self.id_hate_arr[index]]\n",
    "    \n",
    "    def __len__(self):\n",
    "        return self.data_len\n",
    "    \n",
    "if __name__ == \"__main__\":\n",
    "    train_dataset = ToxicDataset('csv path of train dataset')\n",
    "    test_dataset = ToxicDataset('csv path of test dataset')\n",
    "        "
   ]
  }
 ],
 "metadata": {
  "kernelspec": {
   "display_name": "Python 3",
   "language": "python",
   "name": "python3"
  },
  "language_info": {
   "codemirror_mode": {
    "name": "ipython",
    "version": 3
   },
   "file_extension": ".py",
   "mimetype": "text/x-python",
   "name": "python",
   "nbconvert_exporter": "python",
   "pygments_lexer": "ipython3",
   "version": "3.7.4"
  }
 },
 "nbformat": 4,
 "nbformat_minor": 2
}
