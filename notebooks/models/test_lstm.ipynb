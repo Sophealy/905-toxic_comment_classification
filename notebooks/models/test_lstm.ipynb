{
 "cells": [
  {
   "cell_type": "markdown",
   "metadata": {},
   "source": [
    "# Lstm Model"
   ]
  },
  {
   "cell_type": "markdown",
   "metadata": {},
   "source": [
    "## Importing packages"
   ]
  },
  {
   "cell_type": "code",
   "execution_count": 206,
   "metadata": {},
   "outputs": [],
   "source": [
    "import torch\n",
    "import torch.nn as nn\n",
    "import torch.nn.functional as F\n",
    "import torch.optim as optim"
   ]
  },
  {
   "cell_type": "markdown",
   "metadata": {},
   "source": [
    "## Sample training data "
   ]
  },
  {
   "cell_type": "code",
   "execution_count": 207,
   "metadata": {},
   "outputs": [],
   "source": [
    "training_data = [\n",
    "    (\"The dog ate the apple\".split(), torch.tensor([0,0,0,1,1,1],dtype=torch.float32)),\n",
    "    (\"Everybody read that beautiful book\".split(), torch.tensor([1,1,1,1,1,1],dtype=torch.float32))\n",
    "]\n",
    "\n"
   ]
  },
  {
   "cell_type": "code",
   "execution_count": 223,
   "metadata": {},
   "outputs": [
    {
     "name": "stdout",
     "output_type": "stream",
     "text": [
      "{'The': 0, 'dog': 1, 'ate': 2, 'the': 3, 'apple': 4, 'Everybody': 5, 'read': 6, 'that': 7, 'beautiful': 8, 'book': 9}\n"
     ]
    }
   ],
   "source": [
    "def prepare_sequence(seq, to_ix):\n",
    "    idxs = [to_ix[w] for w in seq]\n",
    "    return torch.tensor(idxs, dtype=torch.long)\n",
    "\n",
    "\n",
    "\n",
    "vocab = {}\n",
    "for sent, tags in training_data:\n",
    "    for word in sent:\n",
    "        if word not in vocab:\n",
    "            vocab[word] = len(vocab)\n",
    "print(vocab)\n",
    "\n",
    "\n",
    "\n"
   ]
  },
  {
   "cell_type": "markdown",
   "metadata": {},
   "source": [
    "## Hyperparemeters\n"
   ]
  },
  {
   "cell_type": "code",
   "execution_count": 224,
   "metadata": {},
   "outputs": [],
   "source": [
    "\n",
    "EMBEDDING_DIM = 10\n",
    "HIDDEN_DIM = 5\n"
   ]
  },
  {
   "cell_type": "code",
   "execution_count": 227,
   "metadata": {},
   "outputs": [],
   "source": [
    "class BiLSTM(nn.Module):\n",
    "\n",
    "    def __init__(self, embedding_dim, hidden_dim, vocab_size, tagset_size=6):\n",
    "        super(BiLSTM, self).__init__()\n",
    "        self.hidden_dim = hidden_dim\n",
    "\n",
    "        self.word_embeddings = nn.Embedding(vocab_size, embedding_dim)\n",
    "        self.lstm = nn.LSTM(embedding_dim, hidden_dim,bidirectional =True)\n",
    "\n",
    "        self.hidden2tag = nn.Linear(hidden_dim, 1)\n",
    "\n",
    "    def forward(self, sentence):\n",
    "\n",
    "        \n",
    "        \n",
    "        embeds = self.word_embeddings(sentence)\n",
    "        \n",
    "        \n",
    "        \n",
    "        lstm_out, _ = self.lstm(embeds.unsqueeze(0))\n",
    "        \n",
    "        print(embeds.shape)\n",
    "        print(embeds.unsqueeze(0).shape)\n",
    "        print(lstm_out.shape)\n",
    "        \n",
    "        tag_space = self.hidden2tag(torch.t(lstm_out.squeeze(0)))\n",
    "        print(tag_space)\n",
    "        return tag_space"
   ]
  },
  {
   "cell_type": "code",
   "execution_count": null,
   "metadata": {},
   "outputs": [],
   "source": []
  },
  {
   "cell_type": "code",
   "execution_count": 228,
   "metadata": {},
   "outputs": [
    {
     "name": "stdout",
     "output_type": "stream",
     "text": [
      "torch.Size([5, 10])\n",
      "torch.Size([1, 5, 10])\n",
      "torch.Size([1, 5, 10])\n",
      "tensor([[-0.3627],\n",
      "        [-0.2163],\n",
      "        [-0.2866],\n",
      "        [-0.1561],\n",
      "        [-0.3222],\n",
      "        [-0.2199],\n",
      "        [-0.2356],\n",
      "        [-0.2366],\n",
      "        [-0.3614],\n",
      "        [-0.3076]], grad_fn=<AddmmBackward>)\n",
      "torch.Size([5, 10])\n",
      "torch.Size([1, 5, 10])\n",
      "torch.Size([1, 5, 10])\n",
      "tensor([[-0.0580],\n",
      "        [-0.2571],\n",
      "        [-0.0103],\n",
      "        [-0.2067],\n",
      "        [-0.0684],\n",
      "        [-0.0835],\n",
      "        [-0.1879],\n",
      "        [-0.0879],\n",
      "        [-0.2302],\n",
      "        [-0.1294]], grad_fn=<AddmmBackward>)\n",
      "torch.Size([5, 10])\n",
      "torch.Size([1, 5, 10])\n",
      "torch.Size([1, 5, 10])\n",
      "tensor([[0.0207],\n",
      "        [0.1664],\n",
      "        [0.1031],\n",
      "        [0.2317],\n",
      "        [0.0624],\n",
      "        [0.1687],\n",
      "        [0.1441],\n",
      "        [0.1490],\n",
      "        [0.0269],\n",
      "        [0.0816]], grad_fn=<AddmmBackward>)\n",
      "torch.Size([5, 10])\n",
      "torch.Size([1, 5, 10])\n",
      "torch.Size([1, 5, 10])\n",
      "tensor([[0.2464],\n",
      "        [0.0454],\n",
      "        [0.3077],\n",
      "        [0.1009],\n",
      "        [0.2412],\n",
      "        [0.2245],\n",
      "        [0.1152],\n",
      "        [0.2187],\n",
      "        [0.0764],\n",
      "        [0.1757]], grad_fn=<AddmmBackward>)\n"
     ]
    }
   ],
   "source": [
    "model = BiLSTM(EMBEDDING_DIM, HIDDEN_DIM, len(vocab), 6)\n",
    "loss_function = torch.nn.MSELoss()\n",
    "optimizer = optim.SGD(model.parameters(), lr=0.1)\n",
    "\n",
    "\n",
    "for epoch in range(2):  # again, normally you would NOT do 300 epochs, it is toy data\n",
    "    for sentence, tags in training_data:\n",
    "       \n",
    "        # Step 1. Remember that Pytorch accumulates gradients.\n",
    "        # We need to clear them out before each instance\n",
    "        model.zero_grad()\n",
    "\n",
    "        # Step 2. Get our inputs ready for the network, that is, turn them into\n",
    "        # Tensors of word indices.\n",
    "        sentence_in = prepare_sequence(sentence, vocab)\n",
    "        \n",
    "        \n",
    "        # Step 3. Run our forward pass.\n",
    "        tag_scores = model(sentence_in)\n",
    "\n",
    "        \n",
    "        # Step 4. Compute the loss, gradients, and update the parameters by\n",
    "        #  calling optimizer.step()\n",
    "        loss = loss_function(tag_scores, tags)\n",
    "        loss.backward()\n",
    "        optimizer.step()\n",
    "\n"
   ]
  },
  {
   "cell_type": "code",
   "execution_count": null,
   "metadata": {},
   "outputs": [],
   "source": []
  },
  {
   "cell_type": "code",
   "execution_count": null,
   "metadata": {},
   "outputs": [],
   "source": []
  },
  {
   "cell_type": "code",
   "execution_count": null,
   "metadata": {},
   "outputs": [],
   "source": []
  },
  {
   "cell_type": "code",
   "execution_count": null,
   "metadata": {},
   "outputs": [],
   "source": []
  }
 ],
 "metadata": {
  "kernelspec": {
   "display_name": "Python 3",
   "language": "python",
   "name": "python3"
  },
  "language_info": {
   "codemirror_mode": {
    "name": "ipython",
    "version": 3
   },
   "file_extension": ".py",
   "mimetype": "text/x-python",
   "name": "python",
   "nbconvert_exporter": "python",
   "pygments_lexer": "ipython3",
   "version": "3.7.3"
  }
 },
 "nbformat": 4,
 "nbformat_minor": 2
}
