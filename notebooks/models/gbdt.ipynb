{
 "cells": [
  {
   "cell_type": "markdown",
   "metadata": {},
   "source": [
    "# GBDT"
   ]
  },
  {
   "cell_type": "markdown",
   "metadata": {},
   "source": [
    " It seems that multi regression is not supported natively, see [StackOverFlow](https://stackoverflow.com/questions/21556623/regression-with-multi-dimensional-targets)"
   ]
  },
  {
   "cell_type": "markdown",
   "metadata": {},
   "source": [
    "## Importing packages"
   ]
  },
  {
   "cell_type": "code",
   "execution_count": 62,
   "metadata": {},
   "outputs": [],
   "source": [
    "import numpy as np\n",
    "from sklearn.ensemble import  GradientBoostingRegressor\n",
    "\n",
    "\n",
    "import pandas as pd"
   ]
  },
  {
   "cell_type": "code",
   "execution_count": 63,
   "metadata": {},
   "outputs": [
    {
     "data": {
      "text/plain": [
       "array([[ 0.42646256],\n",
       "       [-0.39064738],\n",
       "       [-0.50617344],\n",
       "       [ 1.11213854],\n",
       "       [-1.55609828],\n",
       "       [ 0.94242662],\n",
       "       [ 0.70664844],\n",
       "       [ 0.66752736],\n",
       "       [ 1.92546156],\n",
       "       [ 0.37199512],\n",
       "       [ 0.29997907],\n",
       "       [ 0.91118516],\n",
       "       [ 1.49270438],\n",
       "       [ 0.40651396],\n",
       "       [ 0.75560059],\n",
       "       [-0.65338842],\n",
       "       [ 0.27684697],\n",
       "       [-0.97172674],\n",
       "       [-0.41464449],\n",
       "       [-0.71105555],\n",
       "       [ 1.00841101],\n",
       "       [-0.48270242],\n",
       "       [ 0.84299427],\n",
       "       [-0.35125237],\n",
       "       [ 0.84859165],\n",
       "       [ 0.07925852],\n",
       "       [-0.24589161],\n",
       "       [ 0.98653387],\n",
       "       [-0.37147414],\n",
       "       [ 0.58419764]])"
      ]
     },
     "execution_count": 63,
     "metadata": {},
     "output_type": "execute_result"
    }
   ],
   "source": [
    "x_train = np.random.randn(30,10)\n",
    "y_train = np.random.randn(30,1)\n",
    "\n",
    "\n",
    "\n",
    "x_test = np.random.randn(30,10)\n",
    "y_test = np.random.randn(30,1)\n",
    "\n",
    "y_train\n"
   ]
  },
  {
   "cell_type": "code",
   "execution_count": 64,
   "metadata": {},
   "outputs": [
    {
     "name": "stderr",
     "output_type": "stream",
     "text": [
      "/home/mg/.anaconda3/lib/python3.7/site-packages/sklearn/ensemble/gradient_boosting.py:1450: DataConversionWarning: A column-vector y was passed when a 1d array was expected. Please change the shape of y to (n_samples, ), for example using ravel().\n",
      "  y = column_or_1d(y, warn=True)\n"
     ]
    },
    {
     "data": {
      "text/plain": [
       "GradientBoostingRegressor(alpha=0.9, criterion='friedman_mse', init=None,\n",
       "                          learning_rate=0.1, loss='ls', max_depth=3,\n",
       "                          max_features=None, max_leaf_nodes=None,\n",
       "                          min_impurity_decrease=0.0, min_impurity_split=None,\n",
       "                          min_samples_leaf=1, min_samples_split=2,\n",
       "                          min_weight_fraction_leaf=0.0, n_estimators=100,\n",
       "                          n_iter_no_change=None, presort='auto',\n",
       "                          random_state=None, subsample=1.0, tol=0.0001,\n",
       "                          validation_fraction=0.1, verbose=0, warm_start=False)"
      ]
     },
     "execution_count": 64,
     "metadata": {},
     "output_type": "execute_result"
    }
   ],
   "source": [
    "gbc = GradientBoostingRegressor()\n",
    "gbc.fit(x_train, y_train)"
   ]
  },
  {
   "cell_type": "code",
   "execution_count": null,
   "metadata": {},
   "outputs": [],
   "source": []
  },
  {
   "cell_type": "code",
   "execution_count": null,
   "metadata": {},
   "outputs": [],
   "source": []
  }
 ],
 "metadata": {
  "kernelspec": {
   "display_name": "Python 3",
   "language": "python",
   "name": "python3"
  },
  "language_info": {
   "codemirror_mode": {
    "name": "ipython",
    "version": 3
   },
   "file_extension": ".py",
   "mimetype": "text/x-python",
   "name": "python",
   "nbconvert_exporter": "python",
   "pygments_lexer": "ipython3",
   "version": "3.7.3"
  }
 },
 "nbformat": 4,
 "nbformat_minor": 2
}
